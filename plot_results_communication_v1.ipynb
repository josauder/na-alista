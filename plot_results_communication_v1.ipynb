{
 "cells": [
  {
   "cell_type": "code",
   "execution_count": 1,
   "metadata": {
    "id": "MVcoFFI_bCi9"
   },
   "outputs": [],
   "source": [
    "%matplotlib inline\n",
    "import os\n",
    "import pandas as pd\n",
    "import matplotlib\n",
    "import matplotlib.pyplot as plt\n",
    "import numpy as np\n",
    "from math import sqrt\n",
    "\n",
    "from utils.plot_utils import *\n",
    "plt.rcParams['figure.figsize'] = [12, 8]"
   ]
  },
  {
   "cell_type": "code",
   "execution_count": 2,
   "metadata": {
    "id": "CbVlFmv-bOZl"
   },
   "outputs": [],
   "source": [
    "result_dir = \"res/models\" # here are the results\n",
    "m=100\n",
    "plot_dir = \"plots\" # her go the plots\n",
    "latex = True # using latex?\n",
    "\n",
    "if not os.path.exists(plot_dir):\n",
    "    os.makedirs(plot_dir)\n",
    "\n",
    "if latex:\n",
    "  latexify()"
   ]
  },
  {
   "cell_type": "markdown",
   "metadata": {
    "id": "u7EHrQrA2rtX",
    "pycharm": {
     "name": "#%% md\n"
    }
   },
   "source": [
    "## Import the available results from ```result_dir```"
   ]
  },
  {
   "cell_type": "code",
   "execution_count": 3,
   "metadata": {
    "colab": {
     "base_uri": "https://localhost:8080/",
     "height": 206
    },
    "id": "OPrx8ZOhbCji",
    "outputId": "1d09dd4b-ac4e-4fa3-f185-abf6ed5656b3",
    "pycharm": {
     "name": "#%%\n"
    }
   },
   "outputs": [
    {
     "name": "stdout",
     "output_type": "stream",
     "text": [
      "This job has not yet finished, but folder was created: model=ALISTA__m=75__s=8__k=10__noise=GaussianNoise10__n=256\n"
     ]
    }
   ],
   "source": [
    "df = []\n",
    "results = []\n",
    "for d in os.listdir(result_dir):\n",
    "    params = d.split('__')\n",
    "    res = {p.split('=')[0]: p.split('=')[1] for p in params}\n",
    "    try:\n",
    "      df_ = pd.read_csv(result_dir + \"/\" + d + \"/train_log\").drop(columns=[\"Unnamed: 0\"])\n",
    "      res[\"db\"] = df_[\"test_dbs\"].min()\n",
    "      res[\"dir\"] = d\n",
    "      res[\"hist\"] = df_[\"test_dbs\"]\n",
    "      results.append(res)\n",
    "    except:\n",
    "      print(f\"This job has not yet finished, but folder was created: {d}\")\n",
    "      \n",
    "df = pd.DataFrame(results)\n",
    "df.head();"
   ]
  },
  {
   "cell_type": "markdown",
   "metadata": {
    "id": "7jpoAkudcwxh",
    "pycharm": {
     "name": "#%% md\n"
    }
   },
   "source": [
    "## Vary k for N=256 and 10dB"
   ]
  },
  {
   "cell_type": "code",
   "execution_count": 4,
   "metadata": {
    "colab": {
     "base_uri": "https://localhost:8080/",
     "height": 1000
    },
    "id": "V02vqsxNbCkJ",
    "outputId": "3ff80599-0283-4c62-b48a-47f5eb4ef866",
    "pycharm": {
     "name": "#%%\n"
    },
    "scrolled": false
   },
   "outputs": [
    {
     "data": {
      "image/png": "[encoded data removed]",
      "text/plain": [
       "<Figure size 317.304x196.105 with 1 Axes>"
      ]
     },
     "metadata": {
      "needs_background": "light"
     },
     "output_type": "display_data"
    }
   ],
   "source": [
    "for n in [256]:\n",
    "  df_ = df\n",
    "  for noisefn, yticks, ymin in [[\"GaussianNoise10\", range(-30, 5, 5), -30]]:\n",
    "      df_ = df[df[\"noise\"] == noisefn]\n",
    "      df_ = df_[df_[\"n\"]==str(n)]\n",
    "      for alg, label, linestyle in [[\"ALISTA\", \"ALISTA\", \"--\"], [\"ALISTA_AT\", \"ALISTA-AT\", \":\"], [\"AGLISTA\", \"AGLISTA\", \"-\"], [\"NA_ALISTA_UR_128\", \"NA-ALISTA\",\"-\"], [\"FISTA\", \"FISTA\", \"-\"], [\"ISTA\", \"ISTA\", \"-\"]]:\n",
    "              df_alg = df_[df_[\"model\"] == alg]\n",
    "              x_ = [0, 1, 2, 4, 6, 8, 10, 12, 14, 16,18,20,22,24]\n",
    "              x = [0]\n",
    "              y = [0]\n",
    "              for k in x_[1:]:\n",
    "                  try:\n",
    "                      y.append(df_alg[df_alg[\"k\"]==str(k)][\"db\"].values[0])\n",
    "                      x.append(k)\n",
    "                  except Exception as e:\n",
    "                      print(f\"WARNING: Still missing k={k} for {alg}.\")\n",
    "              plt.plot(x, y, label=label, linewidth=1)\n",
    "              \n",
    "      plt.ylim(ymin, 2)\n",
    "      plt.yticks(yticks)\n",
    "      plt.xticks(range(25)[::2])\n",
    "      plt.legend(loc=3, ncol=3)\n",
    "      plt.ylabel(\"nMSE (dB)\")\n",
    "      plt.xlabel(\"Iterations (K)\")\n",
    "      plt.grid()\n",
    "      plt.savefig(os.path.join(plot_dir, f\"comm_varyk__n={n}_noise={noisefn}_m={m}.pdf\"), bbox_inches='tight', pad_inches=0.05)\n",
    "      plt.show()\n"
   ]
  },
  {
   "cell_type": "code",
   "execution_count": 5,
   "metadata": {
    "id": "CbVlFmv-bOZl"
   },
   "outputs": [],
   "source": [
    "result_dir = \"res/models50m\" # here are the results\n",
    "m = 50\n",
    "plot_dir = \"plots\" # her go the plots\n",
    "latex = True # using latex?\n",
    "\n",
    "if not os.path.exists(plot_dir):\n",
    "    os.makedirs(plot_dir)\n",
    "\n",
    "if latex:\n",
    "  latexify()"
   ]
  },
  {
   "cell_type": "markdown",
   "metadata": {
    "id": "u7EHrQrA2rtX",
    "pycharm": {
     "name": "#%% md\n"
    }
   },
   "source": [
    "## Import the available results from ```result_dir```"
   ]
  },
  {
   "cell_type": "code",
   "execution_count": 6,
   "metadata": {
    "colab": {
     "base_uri": "https://localhost:8080/",
     "height": 206
    },
    "id": "OPrx8ZOhbCji",
    "outputId": "1d09dd4b-ac4e-4fa3-f185-abf6ed5656b3",
    "pycharm": {
     "name": "#%%\n"
    }
   },
   "outputs": [],
   "source": [
    "df = []\n",
    "results = []\n",
    "for d in os.listdir(result_dir):\n",
    "    params = d.split('__')\n",
    "    res = {p.split('=')[0]: p.split('=')[1] for p in params}\n",
    "    try:\n",
    "      df_ = pd.read_csv(result_dir + \"/\" + d + \"/train_log\").drop(columns=[\"Unnamed: 0\"])\n",
    "      res[\"db\"] = df_[\"test_dbs\"].min()\n",
    "      res[\"dir\"] = d\n",
    "      res[\"hist\"] = df_[\"test_dbs\"]\n",
    "      results.append(res)\n",
    "    except:\n",
    "      print(f\"This job has not yet finished, but folder was created: {d}\")\n",
    "      \n",
    "df = pd.DataFrame(results)\n",
    "df.head();"
   ]
  },
  {
   "cell_type": "markdown",
   "metadata": {
    "id": "7jpoAkudcwxh",
    "pycharm": {
     "name": "#%% md\n"
    }
   },
   "source": [
    "## Vary k for N=256 and 10dB"
   ]
  },
  {
   "cell_type": "code",
   "execution_count": 7,
   "metadata": {
    "colab": {
     "base_uri": "https://localhost:8080/",
     "height": 1000
    },
    "id": "V02vqsxNbCkJ",
    "outputId": "3ff80599-0283-4c62-b48a-47f5eb4ef866",
    "pycharm": {
     "name": "#%%\n"
    },
    "scrolled": false
   },
   "outputs": [
    {
     "data": {
      "image/png": "[encoded data removed]",
      "text/plain": [
       "<Figure size 317.304x196.105 with 1 Axes>"
      ]
     },
     "metadata": {
      "needs_background": "light"
     },
     "output_type": "display_data"
    }
   ],
   "source": [
    "for n in [256]:\n",
    "  df_ = df\n",
    "  for noisefn, yticks, ymin in [[\"GaussianNoise10\", range(-30, 5, 5), -30]]:\n",
    "      df_ = df[df[\"noise\"] == noisefn]\n",
    "      df_ = df_[df_[\"n\"]==str(n)]\n",
    "      for alg, label, linestyle in [[\"ALISTA\", \"ALISTA\", \"--\"], [\"ALISTA_AT\", \"ALISTA-AT\", \":\"], [\"AGLISTA\", \"AGLISTA\", \"-\"], [\"NA_ALISTA_UR_128\", \"NA-ALISTA\",\"-\"], [\"FISTA\", \"FISTA\", \"-\"], [\"ISTA\", \"ISTA\", \"-\"]]:\n",
    "              df_alg = df_[df_[\"model\"] == alg]\n",
    "              x_ = [0, 1, 2, 4, 6, 8, 10, 12, 14, 16,18,20,22,24]\n",
    "              x = [0]\n",
    "              y = [0]\n",
    "              for k in x_[1:]:\n",
    "                  try:\n",
    "                      y.append(df_alg[df_alg[\"k\"]==str(k)][\"db\"].values[0])\n",
    "                      x.append(k)\n",
    "                  except Exception as e:\n",
    "                      print(f\"WARNING: Still missing k={k} for {alg}.\")\n",
    "              plt.plot(x, y, label=label, linewidth=1)\n",
    "              \n",
    "      plt.ylim(ymin, 2)\n",
    "      plt.yticks(yticks)\n",
    "      plt.xticks(range(25)[::2])\n",
    "      plt.legend(loc=3, ncol=3)\n",
    "      plt.ylabel(\"nMSE (dB)\")\n",
    "      plt.xlabel(\"Iterations (K)\")\n",
    "      plt.grid()\n",
    "      plt.savefig(os.path.join(plot_dir, f\"comm_varyk__n={n}_noise={noisefn}_m={m}.pdf\"), bbox_inches='tight', pad_inches=0.05)\n",
    "      plt.show()\n"
   ]
  },
  {
   "cell_type": "code",
   "execution_count": 8,
   "metadata": {
    "id": "CbVlFmv-bOZl"
   },
   "outputs": [],
   "source": [
    "result_dir = \"res/models75m\" # here are the results\n",
    "m=75\n",
    "plot_dir = \"plots\" # her go the plots\n",
    "latex = True # using latex?\n",
    "\n",
    "if not os.path.exists(plot_dir):\n",
    "    os.makedirs(plot_dir)\n",
    "\n",
    "if latex:\n",
    "  latexify()"
   ]
  },
  {
   "cell_type": "markdown",
   "metadata": {
    "id": "u7EHrQrA2rtX",
    "pycharm": {
     "name": "#%% md\n"
    }
   },
   "source": [
    "## Import the available results from ```result_dir```"
   ]
  },
  {
   "cell_type": "code",
   "execution_count": 9,
   "metadata": {
    "colab": {
     "base_uri": "https://localhost:8080/",
     "height": 206
    },
    "id": "OPrx8ZOhbCji",
    "outputId": "1d09dd4b-ac4e-4fa3-f185-abf6ed5656b3",
    "pycharm": {
     "name": "#%%\n"
    }
   },
   "outputs": [],
   "source": [
    "df = []\n",
    "results = []\n",
    "for d in os.listdir(result_dir):\n",
    "    params = d.split('__')\n",
    "    res = {p.split('=')[0]: p.split('=')[1] for p in params}\n",
    "    try:\n",
    "      df_ = pd.read_csv(result_dir + \"/\" + d + \"/train_log\").drop(columns=[\"Unnamed: 0\"])\n",
    "      res[\"db\"] = df_[\"test_dbs\"].min()\n",
    "      res[\"dir\"] = d\n",
    "      res[\"hist\"] = df_[\"test_dbs\"]\n",
    "      results.append(res)\n",
    "    except:\n",
    "      print(f\"This job has not yet finished, but folder was created: {d}\")\n",
    "      \n",
    "df = pd.DataFrame(results)\n",
    "df.head();"
   ]
  },
  {
   "cell_type": "markdown",
   "metadata": {
    "id": "7jpoAkudcwxh",
    "pycharm": {
     "name": "#%% md\n"
    }
   },
   "source": [
    "## Vary k for N=256 and 10dB"
   ]
  },
  {
   "cell_type": "code",
   "execution_count": 10,
   "metadata": {
    "colab": {
     "base_uri": "https://localhost:8080/",
     "height": 1000
    },
    "id": "V02vqsxNbCkJ",
    "outputId": "3ff80599-0283-4c62-b48a-47f5eb4ef866",
    "pycharm": {
     "name": "#%%\n"
    },
    "scrolled": false
   },
   "outputs": [
    {
     "data": {
      "image/png": "[encoded data removed]",
      "text/plain": [
       "<Figure size 317.304x196.105 with 1 Axes>"
      ]
     },
     "metadata": {
      "needs_background": "light"
     },
     "output_type": "display_data"
    }
   ],
   "source": [
    "for n in [256]:\n",
    "  df_ = df\n",
    "  for noisefn, yticks, ymin in [[\"GaussianNoise10\", range(-30, 5, 5), -30]]:\n",
    "      df_ = df[df[\"noise\"] == noisefn]\n",
    "      df_ = df_[df_[\"n\"]==str(n)]\n",
    "      for alg, label, linestyle in [[\"ALISTA\", \"ALISTA\", \"--\"], [\"ALISTA_AT\", \"ALISTA-AT\", \":\"], [\"AGLISTA\", \"AGLISTA\", \"-\"], [\"NA_ALISTA_UR_128\", \"NA-ALISTA\",\"-\"], [\"FISTA\", \"FISTA\", \"-\"], [\"ISTA\", \"ISTA\", \"-\"]]:\n",
    "              df_alg = df_[df_[\"model\"] == alg]\n",
    "              x_ = [0, 1, 2, 4, 6, 8, 10, 12, 14, 16,18,20,22,24]\n",
    "              x = [0]\n",
    "              y = [0]\n",
    "              for k in x_[1:]:\n",
    "                  try:\n",
    "                      y.append(df_alg[df_alg[\"k\"]==str(k)][\"db\"].values[0])\n",
    "                      x.append(k)\n",
    "                  except Exception as e:\n",
    "                      print(f\"WARNING: Still missing k={k} for {alg}.\")\n",
    "              plt.plot(x, y, label=label, linewidth=1)\n",
    "              \n",
    "      plt.ylim(ymin, 2)\n",
    "      plt.yticks(yticks)\n",
    "      plt.xticks(range(25)[::2])\n",
    "      plt.legend(loc=3, ncol=3)\n",
    "      plt.ylabel(\"nMSE (dB)\")\n",
    "      plt.xlabel(\"Iterations (K)\")\n",
    "      plt.grid()\n",
    "      plt.savefig(os.path.join(plot_dir, f\"comm_varyk__n={n}_noise={noisefn}_m={m}.pdf\"), bbox_inches='tight', pad_inches=0.05)\n",
    "      plt.show()\n"
   ]
  },
  {
   "cell_type": "code",
   "execution_count": null,
   "metadata": {},
   "outputs": [],
   "source": []
  },
  {
   "cell_type": "code",
   "execution_count": null,
   "metadata": {},
   "outputs": [],
   "source": []
  }
 ],
 "metadata": {
  "accelerator": "GPU",
  "colab": {
   "collapsed_sections": [],
   "name": "plot_results.ipynb",
   "provenance": []
  },
  "kernelspec": {
   "display_name": "Python 3",
   "language": "python",
   "name": "python3"
  },
  "language_info": {
   "codemirror_mode": {
    "name": "ipython",
    "version": 3
   },
   "file_extension": ".py",
   "mimetype": "text/x-python",
   "name": "python",
   "nbconvert_exporter": "python",
   "pygments_lexer": "ipython3",
   "version": "3.6.9"
  }
 },
 "nbformat": 4,
 "nbformat_minor": 1
}
